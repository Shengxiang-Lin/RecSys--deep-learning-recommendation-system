{
 "cells": [
  {
   "cell_type": "markdown",
   "id": "05d0ccb2",
   "metadata": {
    "papermill": {
     "duration": 0.002067,
     "end_time": "2025-07-08T14:23:28.711861",
     "exception": false,
     "start_time": "2025-07-08T14:23:28.709794",
     "status": "completed"
    },
    "tags": []
   },
   "source": [
    "## Multi-Interest Network with Dynamic Routing (MIMD)"
   ]
  },
  {
   "cell_type": "code",
   "execution_count": 1,
   "id": "2574d1be",
   "metadata": {
    "execution": {
     "iopub.execute_input": "2025-07-08T14:23:28.716740Z",
     "iopub.status.busy": "2025-07-08T14:23:28.716320Z",
     "iopub.status.idle": "2025-07-08T15:16:40.082188Z",
     "shell.execute_reply": "2025-07-08T15:16:40.081603Z"
    },
    "papermill": {
     "duration": 3191.375092,
     "end_time": "2025-07-08T15:16:40.088708",
     "exception": false,
     "start_time": "2025-07-08T14:23:28.713616",
     "status": "completed"
    },
    "tags": []
   },
   "outputs": [
    {
     "name": "stdout",
     "output_type": "stream",
     "text": [
      "下载并处理MovieLens-1M数据集...\n",
      "下载MovieLens-1M数据集...\n",
      "解压数据集...\n",
      "读取和处理数据...\n",
      "数据集信息: 物品数量=3953, 训练样本=6034, 验证样本=6034, 测试样本=6034\n"
     ]
    },
    {
     "name": "stderr",
     "output_type": "stream",
     "text": [
      "/usr/local/lib/python3.11/dist-packages/torch/optim/lr_scheduler.py:62: UserWarning: The verbose parameter is deprecated. Please use get_last_lr() to access the learning rate.\n",
      "  warnings.warn(\n"
     ]
    },
    {
     "name": "stdout",
     "output_type": "stream",
     "text": [
      "开始训练模型...\n",
      "Epoch 10/1000, Train Loss: 6.3673, Val Loss: 6.8773, LR: 0.010000\n",
      "Evaluating model at epoch 10...\n"
     ]
    },
    {
     "name": "stderr",
     "output_type": "stream",
     "text": [
      "Evaluating: 100%|██████████| 24/24 [00:01<00:00, 12.10it/s]\n"
     ]
    },
    {
     "name": "stdout",
     "output_type": "stream",
     "text": [
      "HR@10: 0.0360, NDCG@10: 0.0191\n",
      "HR@20: 0.0552, NDCG@20: 0.0239\n",
      "HR@50: 0.0998, NDCG@50: 0.0326\n",
      "Epoch 20/1000, Train Loss: 5.8439, Val Loss: 6.6411, LR: 0.010000\n",
      "Evaluating model at epoch 20...\n"
     ]
    },
    {
     "name": "stderr",
     "output_type": "stream",
     "text": [
      "Evaluating: 100%|██████████| 24/24 [00:01<00:00, 13.67it/s]\n"
     ]
    },
    {
     "name": "stdout",
     "output_type": "stream",
     "text": [
      "HR@10: 0.0356, NDCG@10: 0.0188\n",
      "HR@20: 0.0563, NDCG@20: 0.0241\n",
      "HR@50: 0.1089, NDCG@50: 0.0343\n",
      "Epoch 30/1000, Train Loss: 5.5674, Val Loss: 6.5429, LR: 0.010000\n",
      "Evaluating model at epoch 30...\n"
     ]
    },
    {
     "name": "stderr",
     "output_type": "stream",
     "text": [
      "Evaluating: 100%|██████████| 24/24 [00:01<00:00, 13.57it/s]\n"
     ]
    },
    {
     "name": "stdout",
     "output_type": "stream",
     "text": [
      "HR@10: 0.0384, NDCG@10: 0.0200\n",
      "HR@20: 0.0583, NDCG@20: 0.0250\n",
      "HR@50: 0.1112, NDCG@50: 0.0354\n",
      "Epoch 40/1000, Train Loss: 5.3579, Val Loss: 6.4978, LR: 0.010000\n",
      "Evaluating model at epoch 40...\n"
     ]
    },
    {
     "name": "stderr",
     "output_type": "stream",
     "text": [
      "Evaluating: 100%|██████████| 24/24 [00:01<00:00, 13.56it/s]\n"
     ]
    },
    {
     "name": "stdout",
     "output_type": "stream",
     "text": [
      "HR@10: 0.0403, NDCG@10: 0.0212\n",
      "HR@20: 0.0626, NDCG@20: 0.0267\n",
      "HR@50: 0.1102, NDCG@50: 0.0361\n",
      "Epoch 50/1000, Train Loss: 5.1923, Val Loss: 6.4706, LR: 0.010000\n",
      "Evaluating model at epoch 50...\n"
     ]
    },
    {
     "name": "stderr",
     "output_type": "stream",
     "text": [
      "Evaluating: 100%|██████████| 24/24 [00:01<00:00, 13.23it/s]\n"
     ]
    },
    {
     "name": "stdout",
     "output_type": "stream",
     "text": [
      "HR@10: 0.0320, NDCG@10: 0.0170\n",
      "HR@20: 0.0530, NDCG@20: 0.0222\n",
      "HR@50: 0.0994, NDCG@50: 0.0314\n",
      "Epoch 60/1000, Train Loss: 5.0215, Val Loss: 6.4622, LR: 0.010000\n",
      "Evaluating model at epoch 60...\n"
     ]
    },
    {
     "name": "stderr",
     "output_type": "stream",
     "text": [
      "Evaluating: 100%|██████████| 24/24 [00:01<00:00, 13.59it/s]\n"
     ]
    },
    {
     "name": "stdout",
     "output_type": "stream",
     "text": [
      "HR@10: 0.0356, NDCG@10: 0.0189\n",
      "HR@20: 0.0560, NDCG@20: 0.0240\n",
      "HR@50: 0.1031, NDCG@50: 0.0332\n",
      "Epoch 70/1000, Train Loss: 4.8931, Val Loss: 6.4716, LR: 0.010000\n",
      "Evaluating model at epoch 70...\n"
     ]
    },
    {
     "name": "stderr",
     "output_type": "stream",
     "text": [
      "Evaluating: 100%|██████████| 24/24 [00:01<00:00, 13.46it/s]\n"
     ]
    },
    {
     "name": "stdout",
     "output_type": "stream",
     "text": [
      "HR@10: 0.0325, NDCG@10: 0.0182\n",
      "HR@20: 0.0545, NDCG@20: 0.0237\n",
      "HR@50: 0.1084, NDCG@50: 0.0343\n",
      "Epoch 80/1000, Train Loss: 4.7463, Val Loss: 6.4693, LR: 0.010000\n",
      "Evaluating model at epoch 80...\n"
     ]
    },
    {
     "name": "stderr",
     "output_type": "stream",
     "text": [
      "Evaluating: 100%|██████████| 24/24 [00:01<00:00, 13.70it/s]\n"
     ]
    },
    {
     "name": "stdout",
     "output_type": "stream",
     "text": [
      "HR@10: 0.0322, NDCG@10: 0.0169\n",
      "HR@20: 0.0512, NDCG@20: 0.0216\n",
      "HR@50: 0.0974, NDCG@50: 0.0307\n",
      "Epoch 90/1000, Train Loss: 4.6439, Val Loss: 6.4639, LR: 0.009000\n",
      "Evaluating model at epoch 90...\n"
     ]
    },
    {
     "name": "stderr",
     "output_type": "stream",
     "text": [
      "Evaluating: 100%|██████████| 24/24 [00:01<00:00, 13.78it/s]\n"
     ]
    },
    {
     "name": "stdout",
     "output_type": "stream",
     "text": [
      "HR@10: 0.0317, NDCG@10: 0.0162\n",
      "HR@20: 0.0500, NDCG@20: 0.0208\n",
      "HR@50: 0.0948, NDCG@50: 0.0296\n",
      "Epoch 100/1000, Train Loss: 4.5031, Val Loss: 6.4803, LR: 0.008100\n",
      "Evaluating model at epoch 100...\n"
     ]
    },
    {
     "name": "stderr",
     "output_type": "stream",
     "text": [
      "Evaluating: 100%|██████████| 24/24 [00:01<00:00, 13.44it/s]\n"
     ]
    },
    {
     "name": "stdout",
     "output_type": "stream",
     "text": [
      "HR@10: 0.0322, NDCG@10: 0.0167\n",
      "HR@20: 0.0500, NDCG@20: 0.0211\n",
      "HR@50: 0.0976, NDCG@50: 0.0305\n",
      "Epoch 110/1000, Train Loss: 4.4044, Val Loss: 6.4866, LR: 0.008100\n",
      "Evaluating model at epoch 110...\n"
     ]
    },
    {
     "name": "stderr",
     "output_type": "stream",
     "text": [
      "Evaluating: 100%|██████████| 24/24 [00:01<00:00, 13.17it/s]\n"
     ]
    },
    {
     "name": "stdout",
     "output_type": "stream",
     "text": [
      "HR@10: 0.0308, NDCG@10: 0.0156\n",
      "HR@20: 0.0471, NDCG@20: 0.0197\n",
      "HR@50: 0.0946, NDCG@50: 0.0290\n",
      "Epoch 120/1000, Train Loss: 4.2788, Val Loss: 6.4614, LR: 0.007290\n",
      "Evaluating model at epoch 120...\n"
     ]
    },
    {
     "name": "stderr",
     "output_type": "stream",
     "text": [
      "Evaluating: 100%|██████████| 24/24 [00:01<00:00, 13.60it/s]\n"
     ]
    },
    {
     "name": "stdout",
     "output_type": "stream",
     "text": [
      "HR@10: 0.0310, NDCG@10: 0.0167\n",
      "HR@20: 0.0509, NDCG@20: 0.0217\n",
      "HR@50: 0.0991, NDCG@50: 0.0312\n",
      "Epoch 130/1000, Train Loss: 4.1937, Val Loss: 6.4574, LR: 0.006561\n",
      "Evaluating model at epoch 130...\n"
     ]
    },
    {
     "name": "stderr",
     "output_type": "stream",
     "text": [
      "Evaluating: 100%|██████████| 24/24 [00:01<00:00, 13.73it/s]\n"
     ]
    },
    {
     "name": "stdout",
     "output_type": "stream",
     "text": [
      "HR@10: 0.0293, NDCG@10: 0.0154\n",
      "HR@20: 0.0466, NDCG@20: 0.0198\n",
      "HR@50: 0.0931, NDCG@50: 0.0289\n",
      "Epoch 140/1000, Train Loss: 4.1298, Val Loss: 6.4771, LR: 0.005905\n",
      "Evaluating model at epoch 140...\n"
     ]
    },
    {
     "name": "stderr",
     "output_type": "stream",
     "text": [
      "Evaluating: 100%|██████████| 24/24 [00:01<00:00, 13.43it/s]\n"
     ]
    },
    {
     "name": "stdout",
     "output_type": "stream",
     "text": [
      "HR@10: 0.0297, NDCG@10: 0.0151\n",
      "HR@20: 0.0484, NDCG@20: 0.0198\n",
      "HR@50: 0.0941, NDCG@50: 0.0287\n",
      "Epoch 150/1000, Train Loss: 4.0793, Val Loss: 6.4779, LR: 0.005314\n",
      "Evaluating model at epoch 150...\n"
     ]
    },
    {
     "name": "stderr",
     "output_type": "stream",
     "text": [
      "Evaluating: 100%|██████████| 24/24 [00:01<00:00, 13.68it/s]\n"
     ]
    },
    {
     "name": "stdout",
     "output_type": "stream",
     "text": [
      "HR@10: 0.0273, NDCG@10: 0.0141\n",
      "HR@20: 0.0451, NDCG@20: 0.0185\n",
      "HR@50: 0.0938, NDCG@50: 0.0281\n",
      "Epoch 160/1000, Train Loss: 4.0126, Val Loss: 6.4771, LR: 0.004783\n",
      "Evaluating model at epoch 160...\n"
     ]
    },
    {
     "name": "stderr",
     "output_type": "stream",
     "text": [
      "Evaluating: 100%|██████████| 24/24 [00:01<00:00, 13.69it/s]\n"
     ]
    },
    {
     "name": "stdout",
     "output_type": "stream",
     "text": [
      "HR@10: 0.0287, NDCG@10: 0.0152\n",
      "HR@20: 0.0502, NDCG@20: 0.0206\n",
      "HR@50: 0.0936, NDCG@50: 0.0290\n",
      "Epoch 170/1000, Train Loss: 3.9375, Val Loss: 6.4719, LR: 0.004305\n",
      "Evaluating model at epoch 170...\n"
     ]
    },
    {
     "name": "stderr",
     "output_type": "stream",
     "text": [
      "Evaluating: 100%|██████████| 24/24 [00:01<00:00, 13.53it/s]\n"
     ]
    },
    {
     "name": "stdout",
     "output_type": "stream",
     "text": [
      "HR@10: 0.0267, NDCG@10: 0.0139\n",
      "HR@20: 0.0469, NDCG@20: 0.0190\n",
      "HR@50: 0.0950, NDCG@50: 0.0284\n",
      "Epoch 180/1000, Train Loss: 3.8834, Val Loss: 6.4659, LR: 0.003874\n",
      "Evaluating model at epoch 180...\n"
     ]
    },
    {
     "name": "stderr",
     "output_type": "stream",
     "text": [
      "Evaluating: 100%|██████████| 24/24 [00:01<00:00, 13.76it/s]\n"
     ]
    },
    {
     "name": "stdout",
     "output_type": "stream",
     "text": [
      "HR@10: 0.0280, NDCG@10: 0.0136\n",
      "HR@20: 0.0476, NDCG@20: 0.0185\n",
      "HR@50: 0.0940, NDCG@50: 0.0276\n",
      "Epoch 190/1000, Train Loss: 3.8168, Val Loss: 6.4772, LR: 0.003874\n",
      "Evaluating model at epoch 190...\n"
     ]
    },
    {
     "name": "stderr",
     "output_type": "stream",
     "text": [
      "Evaluating: 100%|██████████| 24/24 [00:01<00:00, 13.42it/s]\n"
     ]
    },
    {
     "name": "stdout",
     "output_type": "stream",
     "text": [
      "HR@10: 0.0282, NDCG@10: 0.0139\n",
      "HR@20: 0.0477, NDCG@20: 0.0189\n",
      "HR@50: 0.0902, NDCG@50: 0.0272\n",
      "Epoch 200/1000, Train Loss: 3.7921, Val Loss: 6.4833, LR: 0.003487\n",
      "Evaluating model at epoch 200...\n"
     ]
    },
    {
     "name": "stderr",
     "output_type": "stream",
     "text": [
      "Evaluating: 100%|██████████| 24/24 [00:01<00:00, 13.67it/s]\n"
     ]
    },
    {
     "name": "stdout",
     "output_type": "stream",
     "text": [
      "HR@10: 0.0305, NDCG@10: 0.0141\n",
      "HR@20: 0.0474, NDCG@20: 0.0184\n",
      "HR@50: 0.0902, NDCG@50: 0.0267\n",
      "Epoch 210/1000, Train Loss: 3.7447, Val Loss: 6.4661, LR: 0.003138\n",
      "Evaluating model at epoch 210...\n"
     ]
    },
    {
     "name": "stderr",
     "output_type": "stream",
     "text": [
      "Evaluating: 100%|██████████| 24/24 [00:01<00:00, 13.41it/s]\n"
     ]
    },
    {
     "name": "stdout",
     "output_type": "stream",
     "text": [
      "HR@10: 0.0308, NDCG@10: 0.0150\n",
      "HR@20: 0.0555, NDCG@20: 0.0211\n",
      "HR@50: 0.1011, NDCG@50: 0.0301\n",
      "Epoch 220/1000, Train Loss: 3.6974, Val Loss: 6.4608, LR: 0.002824\n",
      "Evaluating model at epoch 220...\n"
     ]
    },
    {
     "name": "stderr",
     "output_type": "stream",
     "text": [
      "Evaluating: 100%|██████████| 24/24 [00:01<00:00, 13.62it/s]\n"
     ]
    },
    {
     "name": "stdout",
     "output_type": "stream",
     "text": [
      "HR@10: 0.0310, NDCG@10: 0.0158\n",
      "HR@20: 0.0467, NDCG@20: 0.0198\n",
      "HR@50: 0.0883, NDCG@50: 0.0279\n",
      "Epoch 230/1000, Train Loss: 3.7052, Val Loss: 6.4662, LR: 0.002542\n",
      "Evaluating model at epoch 230...\n"
     ]
    },
    {
     "name": "stderr",
     "output_type": "stream",
     "text": [
      "Evaluating: 100%|██████████| 24/24 [00:01<00:00, 13.43it/s]\n"
     ]
    },
    {
     "name": "stdout",
     "output_type": "stream",
     "text": [
      "HR@10: 0.0302, NDCG@10: 0.0150\n",
      "HR@20: 0.0499, NDCG@20: 0.0199\n",
      "HR@50: 0.0946, NDCG@50: 0.0286\n",
      "Epoch 240/1000, Train Loss: 3.6609, Val Loss: 6.4768, LR: 0.002288\n",
      "Evaluating model at epoch 240...\n"
     ]
    },
    {
     "name": "stderr",
     "output_type": "stream",
     "text": [
      "Evaluating: 100%|██████████| 24/24 [00:01<00:00, 13.50it/s]\n"
     ]
    },
    {
     "name": "stdout",
     "output_type": "stream",
     "text": [
      "HR@10: 0.0298, NDCG@10: 0.0153\n",
      "HR@20: 0.0479, NDCG@20: 0.0197\n",
      "HR@50: 0.0961, NDCG@50: 0.0293\n",
      "Epoch 250/1000, Train Loss: 3.6216, Val Loss: 6.4627, LR: 0.002059\n",
      "Evaluating model at epoch 250...\n"
     ]
    },
    {
     "name": "stderr",
     "output_type": "stream",
     "text": [
      "Evaluating: 100%|██████████| 24/24 [00:01<00:00, 13.62it/s]\n"
     ]
    },
    {
     "name": "stdout",
     "output_type": "stream",
     "text": [
      "HR@10: 0.0300, NDCG@10: 0.0146\n",
      "HR@20: 0.0459, NDCG@20: 0.0186\n",
      "HR@50: 0.0921, NDCG@50: 0.0277\n",
      "Epoch 260/1000, Train Loss: 3.6026, Val Loss: 6.4719, LR: 0.001853\n",
      "Evaluating model at epoch 260...\n"
     ]
    },
    {
     "name": "stderr",
     "output_type": "stream",
     "text": [
      "Evaluating: 100%|██████████| 24/24 [00:01<00:00, 13.73it/s]\n"
     ]
    },
    {
     "name": "stdout",
     "output_type": "stream",
     "text": [
      "HR@10: 0.0272, NDCG@10: 0.0130\n",
      "HR@20: 0.0452, NDCG@20: 0.0175\n",
      "HR@50: 0.0903, NDCG@50: 0.0264\n",
      "Epoch 270/1000, Train Loss: 3.5712, Val Loss: 6.4976, LR: 0.001668\n",
      "Evaluating model at epoch 270...\n"
     ]
    },
    {
     "name": "stderr",
     "output_type": "stream",
     "text": [
      "Evaluating: 100%|██████████| 24/24 [00:01<00:00, 13.65it/s]\n"
     ]
    },
    {
     "name": "stdout",
     "output_type": "stream",
     "text": [
      "HR@10: 0.0287, NDCG@10: 0.0138\n",
      "HR@20: 0.0487, NDCG@20: 0.0188\n",
      "HR@50: 0.0961, NDCG@50: 0.0281\n",
      "Epoch 280/1000, Train Loss: 3.5376, Val Loss: 6.4696, LR: 0.001501\n",
      "Evaluating model at epoch 280...\n"
     ]
    },
    {
     "name": "stderr",
     "output_type": "stream",
     "text": [
      "Evaluating: 100%|██████████| 24/24 [00:01<00:00, 13.50it/s]\n"
     ]
    },
    {
     "name": "stdout",
     "output_type": "stream",
     "text": [
      "HR@10: 0.0278, NDCG@10: 0.0140\n",
      "HR@20: 0.0438, NDCG@20: 0.0179\n",
      "HR@50: 0.0887, NDCG@50: 0.0267\n",
      "Epoch 290/1000, Train Loss: 3.5503, Val Loss: 6.4724, LR: 0.001351\n",
      "Evaluating model at epoch 290...\n"
     ]
    },
    {
     "name": "stderr",
     "output_type": "stream",
     "text": [
      "Evaluating: 100%|██████████| 24/24 [00:01<00:00, 13.65it/s]\n"
     ]
    },
    {
     "name": "stdout",
     "output_type": "stream",
     "text": [
      "HR@10: 0.0254, NDCG@10: 0.0128\n",
      "HR@20: 0.0441, NDCG@20: 0.0175\n",
      "HR@50: 0.0938, NDCG@50: 0.0273\n",
      "Epoch 300/1000, Train Loss: 3.5499, Val Loss: 6.4602, LR: 0.001351\n",
      "Evaluating model at epoch 300...\n"
     ]
    },
    {
     "name": "stderr",
     "output_type": "stream",
     "text": [
      "Evaluating: 100%|██████████| 24/24 [00:01<00:00, 13.35it/s]\n"
     ]
    },
    {
     "name": "stdout",
     "output_type": "stream",
     "text": [
      "HR@10: 0.0305, NDCG@10: 0.0149\n",
      "HR@20: 0.0492, NDCG@20: 0.0196\n",
      "HR@50: 0.0926, NDCG@50: 0.0280\n",
      "Epoch 310/1000, Train Loss: 3.5226, Val Loss: 6.4639, LR: 0.001216\n",
      "Evaluating model at epoch 310...\n"
     ]
    },
    {
     "name": "stderr",
     "output_type": "stream",
     "text": [
      "Evaluating: 100%|██████████| 24/24 [00:01<00:00, 13.40it/s]\n"
     ]
    },
    {
     "name": "stdout",
     "output_type": "stream",
     "text": [
      "HR@10: 0.0275, NDCG@10: 0.0141\n",
      "HR@20: 0.0514, NDCG@20: 0.0200\n",
      "HR@50: 0.0956, NDCG@50: 0.0287\n",
      "Epoch 320/1000, Train Loss: 3.5035, Val Loss: 6.4412, LR: 0.001094\n",
      "Evaluating model at epoch 320...\n"
     ]
    },
    {
     "name": "stderr",
     "output_type": "stream",
     "text": [
      "Evaluating: 100%|██████████| 24/24 [00:01<00:00, 13.55it/s]\n"
     ]
    },
    {
     "name": "stdout",
     "output_type": "stream",
     "text": [
      "HR@10: 0.0239, NDCG@10: 0.0120\n",
      "HR@20: 0.0441, NDCG@20: 0.0170\n",
      "HR@50: 0.0916, NDCG@50: 0.0263\n",
      "Epoch 330/1000, Train Loss: 3.4936, Val Loss: 6.4647, LR: 0.000985\n",
      "Evaluating model at epoch 330...\n"
     ]
    },
    {
     "name": "stderr",
     "output_type": "stream",
     "text": [
      "Evaluating: 100%|██████████| 24/24 [00:01<00:00, 13.60it/s]\n"
     ]
    },
    {
     "name": "stdout",
     "output_type": "stream",
     "text": [
      "HR@10: 0.0278, NDCG@10: 0.0144\n",
      "HR@20: 0.0494, NDCG@20: 0.0198\n",
      "HR@50: 0.1009, NDCG@50: 0.0299\n",
      "Epoch 340/1000, Train Loss: 3.4857, Val Loss: 6.4813, LR: 0.000886\n",
      "Evaluating model at epoch 340...\n"
     ]
    },
    {
     "name": "stderr",
     "output_type": "stream",
     "text": [
      "Evaluating: 100%|██████████| 24/24 [00:01<00:00, 13.53it/s]\n"
     ]
    },
    {
     "name": "stdout",
     "output_type": "stream",
     "text": [
      "HR@10: 0.0275, NDCG@10: 0.0138\n",
      "HR@20: 0.0466, NDCG@20: 0.0186\n",
      "HR@50: 0.0925, NDCG@50: 0.0275\n",
      "Epoch 350/1000, Train Loss: 3.4833, Val Loss: 6.4656, LR: 0.000798\n",
      "Evaluating model at epoch 350...\n"
     ]
    },
    {
     "name": "stderr",
     "output_type": "stream",
     "text": [
      "Evaluating: 100%|██████████| 24/24 [00:01<00:00, 13.51it/s]\n"
     ]
    },
    {
     "name": "stdout",
     "output_type": "stream",
     "text": [
      "HR@10: 0.0257, NDCG@10: 0.0131\n",
      "HR@20: 0.0447, NDCG@20: 0.0179\n",
      "HR@50: 0.0916, NDCG@50: 0.0271\n",
      "Epoch 360/1000, Train Loss: 3.4551, Val Loss: 6.4620, LR: 0.000718\n",
      "Evaluating model at epoch 360...\n"
     ]
    },
    {
     "name": "stderr",
     "output_type": "stream",
     "text": [
      "Evaluating: 100%|██████████| 24/24 [00:01<00:00, 13.30it/s]\n"
     ]
    },
    {
     "name": "stdout",
     "output_type": "stream",
     "text": [
      "HR@10: 0.0323, NDCG@10: 0.0160\n",
      "HR@20: 0.0505, NDCG@20: 0.0205\n",
      "HR@50: 0.0953, NDCG@50: 0.0294\n",
      "Epoch 370/1000, Train Loss: 3.4562, Val Loss: 6.4664, LR: 0.000646\n",
      "Evaluating model at epoch 370...\n"
     ]
    },
    {
     "name": "stderr",
     "output_type": "stream",
     "text": [
      "Evaluating: 100%|██████████| 24/24 [00:01<00:00, 13.45it/s]\n"
     ]
    },
    {
     "name": "stdout",
     "output_type": "stream",
     "text": [
      "HR@10: 0.0260, NDCG@10: 0.0121\n",
      "HR@20: 0.0457, NDCG@20: 0.0170\n",
      "HR@50: 0.0938, NDCG@50: 0.0265\n",
      "Epoch 380/1000, Train Loss: 3.4456, Val Loss: 6.4758, LR: 0.000581\n",
      "Evaluating model at epoch 380...\n"
     ]
    },
    {
     "name": "stderr",
     "output_type": "stream",
     "text": [
      "Evaluating: 100%|██████████| 24/24 [00:01<00:00, 13.49it/s]\n"
     ]
    },
    {
     "name": "stdout",
     "output_type": "stream",
     "text": [
      "HR@10: 0.0264, NDCG@10: 0.0131\n",
      "HR@20: 0.0456, NDCG@20: 0.0179\n",
      "HR@50: 0.0958, NDCG@50: 0.0278\n",
      "Epoch 390/1000, Train Loss: 3.4426, Val Loss: 6.4750, LR: 0.000523\n",
      "Evaluating model at epoch 390...\n"
     ]
    },
    {
     "name": "stderr",
     "output_type": "stream",
     "text": [
      "Evaluating: 100%|██████████| 24/24 [00:01<00:00, 13.51it/s]\n"
     ]
    },
    {
     "name": "stdout",
     "output_type": "stream",
     "text": [
      "HR@10: 0.0302, NDCG@10: 0.0154\n",
      "HR@20: 0.0510, NDCG@20: 0.0207\n",
      "HR@50: 0.0931, NDCG@50: 0.0289\n",
      "Epoch 400/1000, Train Loss: 3.4479, Val Loss: 6.4675, LR: 0.000471\n",
      "Evaluating model at epoch 400...\n"
     ]
    },
    {
     "name": "stderr",
     "output_type": "stream",
     "text": [
      "Evaluating: 100%|██████████| 24/24 [00:01<00:00, 13.52it/s]\n"
     ]
    },
    {
     "name": "stdout",
     "output_type": "stream",
     "text": [
      "HR@10: 0.0285, NDCG@10: 0.0135\n",
      "HR@20: 0.0461, NDCG@20: 0.0179\n",
      "HR@50: 0.0945, NDCG@50: 0.0275\n",
      "Epoch 410/1000, Train Loss: 3.4068, Val Loss: 6.4574, LR: 0.000471\n",
      "Evaluating model at epoch 410...\n"
     ]
    },
    {
     "name": "stderr",
     "output_type": "stream",
     "text": [
      "Evaluating: 100%|██████████| 24/24 [00:01<00:00, 13.54it/s]\n"
     ]
    },
    {
     "name": "stdout",
     "output_type": "stream",
     "text": [
      "HR@10: 0.0282, NDCG@10: 0.0142\n",
      "HR@20: 0.0456, NDCG@20: 0.0186\n",
      "HR@50: 0.0905, NDCG@50: 0.0274\n",
      "Epoch 420/1000, Train Loss: 3.4352, Val Loss: 6.4653, LR: 0.000424\n",
      "Evaluating model at epoch 420...\n"
     ]
    },
    {
     "name": "stderr",
     "output_type": "stream",
     "text": [
      "Evaluating: 100%|██████████| 24/24 [00:01<00:00, 13.58it/s]\n"
     ]
    },
    {
     "name": "stdout",
     "output_type": "stream",
     "text": [
      "HR@10: 0.0270, NDCG@10: 0.0144\n",
      "HR@20: 0.0426, NDCG@20: 0.0182\n",
      "HR@50: 0.0940, NDCG@50: 0.0284\n",
      "Epoch 430/1000, Train Loss: 3.4290, Val Loss: 6.4805, LR: 0.000382\n",
      "Evaluating model at epoch 430...\n"
     ]
    },
    {
     "name": "stderr",
     "output_type": "stream",
     "text": [
      "Evaluating: 100%|██████████| 24/24 [00:01<00:00, 13.58it/s]\n"
     ]
    },
    {
     "name": "stdout",
     "output_type": "stream",
     "text": [
      "HR@10: 0.0282, NDCG@10: 0.0146\n",
      "HR@20: 0.0472, NDCG@20: 0.0194\n",
      "HR@50: 0.0931, NDCG@50: 0.0284\n",
      "Epoch 440/1000, Train Loss: 3.4237, Val Loss: 6.4764, LR: 0.000343\n",
      "Evaluating model at epoch 440...\n"
     ]
    },
    {
     "name": "stderr",
     "output_type": "stream",
     "text": [
      "Evaluating: 100%|██████████| 24/24 [00:01<00:00, 13.57it/s]\n"
     ]
    },
    {
     "name": "stdout",
     "output_type": "stream",
     "text": [
      "HR@10: 0.0297, NDCG@10: 0.0138\n",
      "HR@20: 0.0482, NDCG@20: 0.0185\n",
      "HR@50: 0.0905, NDCG@50: 0.0267\n",
      "Epoch 450/1000, Train Loss: 3.4170, Val Loss: 6.4594, LR: 0.000309\n",
      "Evaluating model at epoch 450...\n"
     ]
    },
    {
     "name": "stderr",
     "output_type": "stream",
     "text": [
      "Evaluating: 100%|██████████| 24/24 [00:01<00:00, 13.55it/s]\n"
     ]
    },
    {
     "name": "stdout",
     "output_type": "stream",
     "text": [
      "HR@10: 0.0285, NDCG@10: 0.0137\n",
      "HR@20: 0.0464, NDCG@20: 0.0182\n",
      "HR@50: 0.0912, NDCG@50: 0.0270\n",
      "Epoch 460/1000, Train Loss: 3.4346, Val Loss: 6.4556, LR: 0.000278\n",
      "Evaluating model at epoch 460...\n"
     ]
    },
    {
     "name": "stderr",
     "output_type": "stream",
     "text": [
      "Evaluating: 100%|██████████| 24/24 [00:01<00:00, 13.42it/s]\n"
     ]
    },
    {
     "name": "stdout",
     "output_type": "stream",
     "text": [
      "HR@10: 0.0265, NDCG@10: 0.0135\n",
      "HR@20: 0.0451, NDCG@20: 0.0181\n",
      "HR@50: 0.0897, NDCG@50: 0.0268\n",
      "Epoch 470/1000, Train Loss: 3.3974, Val Loss: 6.4573, LR: 0.000250\n",
      "Evaluating model at epoch 470...\n"
     ]
    },
    {
     "name": "stderr",
     "output_type": "stream",
     "text": [
      "Evaluating: 100%|██████████| 24/24 [00:01<00:00, 13.55it/s]\n"
     ]
    },
    {
     "name": "stdout",
     "output_type": "stream",
     "text": [
      "HR@10: 0.0252, NDCG@10: 0.0129\n",
      "HR@20: 0.0456, NDCG@20: 0.0180\n",
      "HR@50: 0.0908, NDCG@50: 0.0269\n",
      "Epoch 480/1000, Train Loss: 3.4334, Val Loss: 6.4595, LR: 0.000225\n",
      "Evaluating model at epoch 480...\n"
     ]
    },
    {
     "name": "stderr",
     "output_type": "stream",
     "text": [
      "Evaluating: 100%|██████████| 24/24 [00:01<00:00, 13.75it/s]\n"
     ]
    },
    {
     "name": "stdout",
     "output_type": "stream",
     "text": [
      "HR@10: 0.0240, NDCG@10: 0.0129\n",
      "HR@20: 0.0439, NDCG@20: 0.0178\n",
      "HR@50: 0.0883, NDCG@50: 0.0266\n",
      "Epoch 490/1000, Train Loss: 3.3945, Val Loss: 6.4870, LR: 0.000203\n",
      "Evaluating model at epoch 490...\n"
     ]
    },
    {
     "name": "stderr",
     "output_type": "stream",
     "text": [
      "Evaluating: 100%|██████████| 24/24 [00:01<00:00, 13.70it/s]\n"
     ]
    },
    {
     "name": "stdout",
     "output_type": "stream",
     "text": [
      "HR@10: 0.0244, NDCG@10: 0.0126\n",
      "HR@20: 0.0421, NDCG@20: 0.0170\n",
      "HR@50: 0.0855, NDCG@50: 0.0255\n",
      "Epoch 500/1000, Train Loss: 3.3944, Val Loss: 6.4725, LR: 0.000182\n",
      "Evaluating model at epoch 500...\n"
     ]
    },
    {
     "name": "stderr",
     "output_type": "stream",
     "text": [
      "Evaluating: 100%|██████████| 24/24 [00:01<00:00, 13.54it/s]\n"
     ]
    },
    {
     "name": "stdout",
     "output_type": "stream",
     "text": [
      "HR@10: 0.0287, NDCG@10: 0.0138\n",
      "HR@20: 0.0477, NDCG@20: 0.0186\n",
      "HR@50: 0.0994, NDCG@50: 0.0287\n",
      "Epoch 510/1000, Train Loss: 3.4044, Val Loss: 6.4706, LR: 0.000164\n",
      "Evaluating model at epoch 510...\n"
     ]
    },
    {
     "name": "stderr",
     "output_type": "stream",
     "text": [
      "Evaluating: 100%|██████████| 24/24 [00:01<00:00, 13.43it/s]\n"
     ]
    },
    {
     "name": "stdout",
     "output_type": "stream",
     "text": [
      "HR@10: 0.0287, NDCG@10: 0.0139\n",
      "HR@20: 0.0457, NDCG@20: 0.0182\n",
      "HR@50: 0.0900, NDCG@50: 0.0269\n",
      "Epoch 520/1000, Train Loss: 3.3895, Val Loss: 6.4517, LR: 0.000164\n",
      "Evaluating model at epoch 520...\n"
     ]
    },
    {
     "name": "stderr",
     "output_type": "stream",
     "text": [
      "Evaluating: 100%|██████████| 24/24 [00:01<00:00, 13.74it/s]\n"
     ]
    },
    {
     "name": "stdout",
     "output_type": "stream",
     "text": [
      "HR@10: 0.0239, NDCG@10: 0.0116\n",
      "HR@20: 0.0442, NDCG@20: 0.0168\n",
      "HR@50: 0.0885, NDCG@50: 0.0254\n",
      "Epoch 530/1000, Train Loss: 3.3910, Val Loss: 6.4742, LR: 0.000148\n",
      "Evaluating model at epoch 530...\n"
     ]
    },
    {
     "name": "stderr",
     "output_type": "stream",
     "text": [
      "Evaluating: 100%|██████████| 24/24 [00:01<00:00, 13.41it/s]\n"
     ]
    },
    {
     "name": "stdout",
     "output_type": "stream",
     "text": [
      "HR@10: 0.0273, NDCG@10: 0.0138\n",
      "HR@20: 0.0471, NDCG@20: 0.0187\n",
      "HR@50: 0.0950, NDCG@50: 0.0281\n",
      "Epoch 540/1000, Train Loss: 3.4102, Val Loss: 6.4712, LR: 0.000133\n",
      "Evaluating model at epoch 540...\n"
     ]
    },
    {
     "name": "stderr",
     "output_type": "stream",
     "text": [
      "Evaluating: 100%|██████████| 24/24 [00:01<00:00, 13.70it/s]\n"
     ]
    },
    {
     "name": "stdout",
     "output_type": "stream",
     "text": [
      "HR@10: 0.0295, NDCG@10: 0.0147\n",
      "HR@20: 0.0512, NDCG@20: 0.0201\n",
      "HR@50: 0.0965, NDCG@50: 0.0289\n",
      "Epoch 550/1000, Train Loss: 3.3950, Val Loss: 6.4617, LR: 0.000120\n",
      "Evaluating model at epoch 550...\n"
     ]
    },
    {
     "name": "stderr",
     "output_type": "stream",
     "text": [
      "Evaluating: 100%|██████████| 24/24 [00:01<00:00, 13.66it/s]\n"
     ]
    },
    {
     "name": "stdout",
     "output_type": "stream",
     "text": [
      "HR@10: 0.0318, NDCG@10: 0.0155\n",
      "HR@20: 0.0484, NDCG@20: 0.0197\n",
      "HR@50: 0.0938, NDCG@50: 0.0286\n",
      "Epoch 560/1000, Train Loss: 3.3714, Val Loss: 6.4600, LR: 0.000120\n",
      "Evaluating model at epoch 560...\n"
     ]
    },
    {
     "name": "stderr",
     "output_type": "stream",
     "text": [
      "Evaluating: 100%|██████████| 24/24 [00:01<00:00, 13.68it/s]\n"
     ]
    },
    {
     "name": "stdout",
     "output_type": "stream",
     "text": [
      "HR@10: 0.0257, NDCG@10: 0.0126\n",
      "HR@20: 0.0434, NDCG@20: 0.0171\n",
      "HR@50: 0.0936, NDCG@50: 0.0269\n",
      "Epoch 570/1000, Train Loss: 3.3726, Val Loss: 6.4613, LR: 0.000108\n",
      "Evaluating model at epoch 570...\n"
     ]
    },
    {
     "name": "stderr",
     "output_type": "stream",
     "text": [
      "Evaluating: 100%|██████████| 24/24 [00:01<00:00, 13.53it/s]\n"
     ]
    },
    {
     "name": "stdout",
     "output_type": "stream",
     "text": [
      "HR@10: 0.0282, NDCG@10: 0.0139\n",
      "HR@20: 0.0484, NDCG@20: 0.0190\n",
      "HR@50: 0.0910, NDCG@50: 0.0274\n",
      "Epoch 580/1000, Train Loss: 3.3916, Val Loss: 6.4744, LR: 0.000097\n",
      "Evaluating model at epoch 580...\n"
     ]
    },
    {
     "name": "stderr",
     "output_type": "stream",
     "text": [
      "Evaluating: 100%|██████████| 24/24 [00:01<00:00, 13.46it/s]\n"
     ]
    },
    {
     "name": "stdout",
     "output_type": "stream",
     "text": [
      "HR@10: 0.0292, NDCG@10: 0.0152\n",
      "HR@20: 0.0462, NDCG@20: 0.0195\n",
      "HR@50: 0.0938, NDCG@50: 0.0289\n",
      "Epoch 590/1000, Train Loss: 3.3986, Val Loss: 6.4603, LR: 0.000087\n",
      "Evaluating model at epoch 590...\n"
     ]
    },
    {
     "name": "stderr",
     "output_type": "stream",
     "text": [
      "Evaluating: 100%|██████████| 24/24 [00:01<00:00, 13.66it/s]\n"
     ]
    },
    {
     "name": "stdout",
     "output_type": "stream",
     "text": [
      "HR@10: 0.0250, NDCG@10: 0.0127\n",
      "HR@20: 0.0433, NDCG@20: 0.0173\n",
      "HR@50: 0.0908, NDCG@50: 0.0266\n",
      "Epoch 600/1000, Train Loss: 3.3993, Val Loss: 6.4652, LR: 0.000079\n",
      "Evaluating model at epoch 600...\n"
     ]
    },
    {
     "name": "stderr",
     "output_type": "stream",
     "text": [
      "Evaluating: 100%|██████████| 24/24 [00:01<00:00, 13.41it/s]\n"
     ]
    },
    {
     "name": "stdout",
     "output_type": "stream",
     "text": [
      "HR@10: 0.0323, NDCG@10: 0.0163\n",
      "HR@20: 0.0494, NDCG@20: 0.0206\n",
      "HR@50: 0.0933, NDCG@50: 0.0292\n",
      "Epoch 610/1000, Train Loss: 3.3816, Val Loss: 6.4674, LR: 0.000071\n",
      "Evaluating model at epoch 610...\n"
     ]
    },
    {
     "name": "stderr",
     "output_type": "stream",
     "text": [
      "Evaluating: 100%|██████████| 24/24 [00:01<00:00, 13.63it/s]\n"
     ]
    },
    {
     "name": "stdout",
     "output_type": "stream",
     "text": [
      "HR@10: 0.0265, NDCG@10: 0.0140\n",
      "HR@20: 0.0472, NDCG@20: 0.0192\n",
      "HR@50: 0.0925, NDCG@50: 0.0281\n",
      "Epoch 620/1000, Train Loss: 3.4004, Val Loss: 6.4615, LR: 0.000064\n",
      "Evaluating model at epoch 620...\n"
     ]
    },
    {
     "name": "stderr",
     "output_type": "stream",
     "text": [
      "Evaluating: 100%|██████████| 24/24 [00:01<00:00, 13.33it/s]\n"
     ]
    },
    {
     "name": "stdout",
     "output_type": "stream",
     "text": [
      "HR@10: 0.0275, NDCG@10: 0.0136\n",
      "HR@20: 0.0500, NDCG@20: 0.0193\n",
      "HR@50: 0.1014, NDCG@50: 0.0294\n",
      "Epoch 630/1000, Train Loss: 3.3872, Val Loss: 6.4731, LR: 0.000064\n",
      "Evaluating model at epoch 630...\n"
     ]
    },
    {
     "name": "stderr",
     "output_type": "stream",
     "text": [
      "Evaluating: 100%|██████████| 24/24 [00:01<00:00, 13.10it/s]\n"
     ]
    },
    {
     "name": "stdout",
     "output_type": "stream",
     "text": [
      "HR@10: 0.0302, NDCG@10: 0.0153\n",
      "HR@20: 0.0484, NDCG@20: 0.0198\n",
      "HR@50: 0.0902, NDCG@50: 0.0280\n",
      "Epoch 640/1000, Train Loss: 3.4091, Val Loss: 6.4479, LR: 0.000057\n",
      "Evaluating model at epoch 640...\n"
     ]
    },
    {
     "name": "stderr",
     "output_type": "stream",
     "text": [
      "Evaluating: 100%|██████████| 24/24 [00:01<00:00, 13.31it/s]\n"
     ]
    },
    {
     "name": "stdout",
     "output_type": "stream",
     "text": [
      "HR@10: 0.0272, NDCG@10: 0.0136\n",
      "HR@20: 0.0476, NDCG@20: 0.0187\n",
      "HR@50: 0.0950, NDCG@50: 0.0280\n",
      "Epoch 650/1000, Train Loss: 3.4016, Val Loss: 6.4708, LR: 0.000052\n",
      "Evaluating model at epoch 650...\n"
     ]
    },
    {
     "name": "stderr",
     "output_type": "stream",
     "text": [
      "Evaluating: 100%|██████████| 24/24 [00:01<00:00, 13.30it/s]\n"
     ]
    },
    {
     "name": "stdout",
     "output_type": "stream",
     "text": [
      "HR@10: 0.0278, NDCG@10: 0.0143\n",
      "HR@20: 0.0467, NDCG@20: 0.0190\n",
      "HR@50: 0.0907, NDCG@50: 0.0277\n",
      "Epoch 660/1000, Train Loss: 3.3649, Val Loss: 6.4894, LR: 0.000046\n",
      "Evaluating model at epoch 660...\n"
     ]
    },
    {
     "name": "stderr",
     "output_type": "stream",
     "text": [
      "Evaluating: 100%|██████████| 24/24 [00:01<00:00, 12.89it/s]\n"
     ]
    },
    {
     "name": "stdout",
     "output_type": "stream",
     "text": [
      "HR@10: 0.0295, NDCG@10: 0.0144\n",
      "HR@20: 0.0479, NDCG@20: 0.0190\n",
      "HR@50: 0.0958, NDCG@50: 0.0284\n",
      "Epoch 670/1000, Train Loss: 3.4047, Val Loss: 6.4657, LR: 0.000042\n",
      "Evaluating model at epoch 670...\n"
     ]
    },
    {
     "name": "stderr",
     "output_type": "stream",
     "text": [
      "Evaluating: 100%|██████████| 24/24 [00:01<00:00, 13.14it/s]\n"
     ]
    },
    {
     "name": "stdout",
     "output_type": "stream",
     "text": [
      "HR@10: 0.0283, NDCG@10: 0.0139\n",
      "HR@20: 0.0471, NDCG@20: 0.0186\n",
      "HR@50: 0.0921, NDCG@50: 0.0275\n",
      "Epoch 680/1000, Train Loss: 3.3712, Val Loss: 6.4526, LR: 0.000038\n",
      "Evaluating model at epoch 680...\n"
     ]
    },
    {
     "name": "stderr",
     "output_type": "stream",
     "text": [
      "Evaluating: 100%|██████████| 24/24 [00:01<00:00, 13.03it/s]\n"
     ]
    },
    {
     "name": "stdout",
     "output_type": "stream",
     "text": [
      "HR@10: 0.0298, NDCG@10: 0.0141\n",
      "HR@20: 0.0481, NDCG@20: 0.0186\n",
      "HR@50: 0.0926, NDCG@50: 0.0274\n",
      "Epoch 690/1000, Train Loss: 3.3783, Val Loss: 6.4872, LR: 0.000034\n",
      "Evaluating model at epoch 690...\n"
     ]
    },
    {
     "name": "stderr",
     "output_type": "stream",
     "text": [
      "Evaluating: 100%|██████████| 24/24 [00:01<00:00, 13.16it/s]\n"
     ]
    },
    {
     "name": "stdout",
     "output_type": "stream",
     "text": [
      "HR@10: 0.0265, NDCG@10: 0.0138\n",
      "HR@20: 0.0457, NDCG@20: 0.0186\n",
      "HR@50: 0.0925, NDCG@50: 0.0278\n",
      "Epoch 700/1000, Train Loss: 3.3761, Val Loss: 6.4754, LR: 0.000030\n",
      "Evaluating model at epoch 700...\n"
     ]
    },
    {
     "name": "stderr",
     "output_type": "stream",
     "text": [
      "Evaluating: 100%|██████████| 24/24 [00:01<00:00, 13.05it/s]\n"
     ]
    },
    {
     "name": "stdout",
     "output_type": "stream",
     "text": [
      "HR@10: 0.0297, NDCG@10: 0.0143\n",
      "HR@20: 0.0519, NDCG@20: 0.0198\n",
      "HR@50: 0.0991, NDCG@50: 0.0290\n",
      "Epoch 710/1000, Train Loss: 3.3906, Val Loss: 6.4820, LR: 0.000027\n",
      "Evaluating model at epoch 710...\n"
     ]
    },
    {
     "name": "stderr",
     "output_type": "stream",
     "text": [
      "Evaluating: 100%|██████████| 24/24 [00:01<00:00, 13.35it/s]\n"
     ]
    },
    {
     "name": "stdout",
     "output_type": "stream",
     "text": [
      "HR@10: 0.0242, NDCG@10: 0.0118\n",
      "HR@20: 0.0419, NDCG@20: 0.0163\n",
      "HR@50: 0.0883, NDCG@50: 0.0253\n",
      "Epoch 720/1000, Train Loss: 3.3642, Val Loss: 6.4480, LR: 0.000025\n",
      "Evaluating model at epoch 720...\n"
     ]
    },
    {
     "name": "stderr",
     "output_type": "stream",
     "text": [
      "Evaluating: 100%|██████████| 24/24 [00:01<00:00, 13.00it/s]\n"
     ]
    },
    {
     "name": "stdout",
     "output_type": "stream",
     "text": [
      "HR@10: 0.0262, NDCG@10: 0.0131\n",
      "HR@20: 0.0479, NDCG@20: 0.0185\n",
      "HR@50: 0.0907, NDCG@50: 0.0269\n",
      "Epoch 730/1000, Train Loss: 3.3948, Val Loss: 6.4650, LR: 0.000022\n",
      "Evaluating model at epoch 730...\n"
     ]
    },
    {
     "name": "stderr",
     "output_type": "stream",
     "text": [
      "Evaluating: 100%|██████████| 24/24 [00:01<00:00, 13.07it/s]\n"
     ]
    },
    {
     "name": "stdout",
     "output_type": "stream",
     "text": [
      "HR@10: 0.0287, NDCG@10: 0.0145\n",
      "HR@20: 0.0466, NDCG@20: 0.0189\n",
      "HR@50: 0.0925, NDCG@50: 0.0279\n",
      "Epoch 740/1000, Train Loss: 3.3646, Val Loss: 6.4761, LR: 0.000022\n",
      "Evaluating model at epoch 740...\n"
     ]
    },
    {
     "name": "stderr",
     "output_type": "stream",
     "text": [
      "Evaluating: 100%|██████████| 24/24 [00:01<00:00, 13.03it/s]\n"
     ]
    },
    {
     "name": "stdout",
     "output_type": "stream",
     "text": [
      "HR@10: 0.0290, NDCG@10: 0.0142\n",
      "HR@20: 0.0472, NDCG@20: 0.0188\n",
      "HR@50: 0.0943, NDCG@50: 0.0280\n",
      "Epoch 750/1000, Train Loss: 3.3721, Val Loss: 6.4691, LR: 0.000020\n",
      "Evaluating model at epoch 750...\n"
     ]
    },
    {
     "name": "stderr",
     "output_type": "stream",
     "text": [
      "Evaluating: 100%|██████████| 24/24 [00:01<00:00, 13.19it/s]\n"
     ]
    },
    {
     "name": "stdout",
     "output_type": "stream",
     "text": [
      "HR@10: 0.0268, NDCG@10: 0.0134\n",
      "HR@20: 0.0467, NDCG@20: 0.0184\n",
      "HR@50: 0.0945, NDCG@50: 0.0277\n",
      "Epoch 760/1000, Train Loss: 3.3911, Val Loss: 6.4849, LR: 0.000018\n",
      "Evaluating model at epoch 760...\n"
     ]
    },
    {
     "name": "stderr",
     "output_type": "stream",
     "text": [
      "Evaluating: 100%|██████████| 24/24 [00:01<00:00, 13.38it/s]\n"
     ]
    },
    {
     "name": "stdout",
     "output_type": "stream",
     "text": [
      "HR@10: 0.0282, NDCG@10: 0.0145\n",
      "HR@20: 0.0466, NDCG@20: 0.0191\n",
      "HR@50: 0.0948, NDCG@50: 0.0286\n",
      "Epoch 770/1000, Train Loss: 3.3659, Val Loss: 6.4593, LR: 0.000016\n",
      "Evaluating model at epoch 770...\n"
     ]
    },
    {
     "name": "stderr",
     "output_type": "stream",
     "text": [
      "Evaluating: 100%|██████████| 24/24 [00:01<00:00, 13.50it/s]\n"
     ]
    },
    {
     "name": "stdout",
     "output_type": "stream",
     "text": [
      "HR@10: 0.0298, NDCG@10: 0.0148\n",
      "HR@20: 0.0507, NDCG@20: 0.0200\n",
      "HR@50: 0.0963, NDCG@50: 0.0289\n",
      "Epoch 780/1000, Train Loss: 3.3822, Val Loss: 6.4542, LR: 0.000015\n",
      "Evaluating model at epoch 780...\n"
     ]
    },
    {
     "name": "stderr",
     "output_type": "stream",
     "text": [
      "Evaluating: 100%|██████████| 24/24 [00:01<00:00, 13.37it/s]\n"
     ]
    },
    {
     "name": "stdout",
     "output_type": "stream",
     "text": [
      "HR@10: 0.0270, NDCG@10: 0.0131\n",
      "HR@20: 0.0466, NDCG@20: 0.0180\n",
      "HR@50: 0.0984, NDCG@50: 0.0281\n",
      "Epoch 790/1000, Train Loss: 3.3790, Val Loss: 6.4594, LR: 0.000013\n",
      "Evaluating model at epoch 790...\n"
     ]
    },
    {
     "name": "stderr",
     "output_type": "stream",
     "text": [
      "Evaluating: 100%|██████████| 24/24 [00:01<00:00, 13.39it/s]\n"
     ]
    },
    {
     "name": "stdout",
     "output_type": "stream",
     "text": [
      "HR@10: 0.0262, NDCG@10: 0.0127\n",
      "HR@20: 0.0444, NDCG@20: 0.0173\n",
      "HR@50: 0.0908, NDCG@50: 0.0264\n",
      "Epoch 800/1000, Train Loss: 3.3987, Val Loss: 6.4738, LR: 0.000012\n",
      "Evaluating model at epoch 800...\n"
     ]
    },
    {
     "name": "stderr",
     "output_type": "stream",
     "text": [
      "Evaluating: 100%|██████████| 24/24 [00:01<00:00, 13.51it/s]\n"
     ]
    },
    {
     "name": "stdout",
     "output_type": "stream",
     "text": [
      "HR@10: 0.0295, NDCG@10: 0.0142\n",
      "HR@20: 0.0481, NDCG@20: 0.0189\n",
      "HR@50: 0.0950, NDCG@50: 0.0281\n",
      "Epoch 810/1000, Train Loss: 3.3898, Val Loss: 6.4570, LR: 0.000011\n",
      "Evaluating model at epoch 810...\n"
     ]
    },
    {
     "name": "stderr",
     "output_type": "stream",
     "text": [
      "Evaluating: 100%|██████████| 24/24 [00:01<00:00, 13.53it/s]\n"
     ]
    },
    {
     "name": "stdout",
     "output_type": "stream",
     "text": [
      "HR@10: 0.0288, NDCG@10: 0.0142\n",
      "HR@20: 0.0486, NDCG@20: 0.0191\n",
      "HR@50: 0.0892, NDCG@50: 0.0272\n",
      "Epoch 820/1000, Train Loss: 3.3610, Val Loss: 6.4734, LR: 0.000010\n",
      "Evaluating model at epoch 820...\n"
     ]
    },
    {
     "name": "stderr",
     "output_type": "stream",
     "text": [
      "Evaluating: 100%|██████████| 24/24 [00:01<00:00, 13.69it/s]\n"
     ]
    },
    {
     "name": "stdout",
     "output_type": "stream",
     "text": [
      "HR@10: 0.0283, NDCG@10: 0.0144\n",
      "HR@20: 0.0462, NDCG@20: 0.0189\n",
      "HR@50: 0.0916, NDCG@50: 0.0278\n",
      "Epoch 830/1000, Train Loss: 3.3688, Val Loss: 6.4714, LR: 0.000009\n",
      "Evaluating model at epoch 830...\n"
     ]
    },
    {
     "name": "stderr",
     "output_type": "stream",
     "text": [
      "Evaluating: 100%|██████████| 24/24 [00:01<00:00, 13.61it/s]\n"
     ]
    },
    {
     "name": "stdout",
     "output_type": "stream",
     "text": [
      "HR@10: 0.0278, NDCG@10: 0.0145\n",
      "HR@20: 0.0494, NDCG@20: 0.0199\n",
      "HR@50: 0.0971, NDCG@50: 0.0293\n",
      "Epoch 840/1000, Train Loss: 3.3737, Val Loss: 6.4722, LR: 0.000008\n",
      "Evaluating model at epoch 840...\n"
     ]
    },
    {
     "name": "stderr",
     "output_type": "stream",
     "text": [
      "Evaluating: 100%|██████████| 24/24 [00:01<00:00, 13.64it/s]\n"
     ]
    },
    {
     "name": "stdout",
     "output_type": "stream",
     "text": [
      "HR@10: 0.0273, NDCG@10: 0.0144\n",
      "HR@20: 0.0457, NDCG@20: 0.0190\n",
      "HR@50: 0.0943, NDCG@50: 0.0285\n",
      "Epoch 850/1000, Train Loss: 3.3667, Val Loss: 6.4639, LR: 0.000008\n",
      "Evaluating model at epoch 850...\n"
     ]
    },
    {
     "name": "stderr",
     "output_type": "stream",
     "text": [
      "Evaluating: 100%|██████████| 24/24 [00:01<00:00, 13.44it/s]\n"
     ]
    },
    {
     "name": "stdout",
     "output_type": "stream",
     "text": [
      "HR@10: 0.0265, NDCG@10: 0.0128\n",
      "HR@20: 0.0472, NDCG@20: 0.0180\n",
      "HR@50: 0.0921, NDCG@50: 0.0268\n",
      "Epoch 860/1000, Train Loss: 3.3751, Val Loss: 6.4841, LR: 0.000007\n",
      "Evaluating model at epoch 860...\n"
     ]
    },
    {
     "name": "stderr",
     "output_type": "stream",
     "text": [
      "Evaluating: 100%|██████████| 24/24 [00:01<00:00, 13.60it/s]\n"
     ]
    },
    {
     "name": "stdout",
     "output_type": "stream",
     "text": [
      "HR@10: 0.0288, NDCG@10: 0.0144\n",
      "HR@20: 0.0486, NDCG@20: 0.0194\n",
      "HR@50: 0.0893, NDCG@50: 0.0274\n",
      "Epoch 870/1000, Train Loss: 3.3656, Val Loss: 6.4668, LR: 0.000006\n",
      "Evaluating model at epoch 870...\n"
     ]
    },
    {
     "name": "stderr",
     "output_type": "stream",
     "text": [
      "Evaluating: 100%|██████████| 24/24 [00:01<00:00, 13.42it/s]\n"
     ]
    },
    {
     "name": "stdout",
     "output_type": "stream",
     "text": [
      "HR@10: 0.0278, NDCG@10: 0.0136\n",
      "HR@20: 0.0451, NDCG@20: 0.0180\n",
      "HR@50: 0.0943, NDCG@50: 0.0277\n",
      "Epoch 880/1000, Train Loss: 3.3676, Val Loss: 6.4511, LR: 0.000006\n",
      "Evaluating model at epoch 880...\n"
     ]
    },
    {
     "name": "stderr",
     "output_type": "stream",
     "text": [
      "Evaluating: 100%|██████████| 24/24 [00:01<00:00, 13.52it/s]\n"
     ]
    },
    {
     "name": "stdout",
     "output_type": "stream",
     "text": [
      "HR@10: 0.0260, NDCG@10: 0.0124\n",
      "HR@20: 0.0451, NDCG@20: 0.0172\n",
      "HR@50: 0.0948, NDCG@50: 0.0270\n",
      "Epoch 890/1000, Train Loss: 3.3731, Val Loss: 6.4783, LR: 0.000005\n",
      "Evaluating model at epoch 890...\n"
     ]
    },
    {
     "name": "stderr",
     "output_type": "stream",
     "text": [
      "Evaluating: 100%|██████████| 24/24 [00:01<00:00, 13.63it/s]\n"
     ]
    },
    {
     "name": "stdout",
     "output_type": "stream",
     "text": [
      "HR@10: 0.0267, NDCG@10: 0.0134\n",
      "HR@20: 0.0471, NDCG@20: 0.0185\n",
      "HR@50: 0.0868, NDCG@50: 0.0263\n",
      "Epoch 900/1000, Train Loss: 3.3549, Val Loss: 6.4601, LR: 0.000005\n",
      "Evaluating model at epoch 900...\n"
     ]
    },
    {
     "name": "stderr",
     "output_type": "stream",
     "text": [
      "Evaluating: 100%|██████████| 24/24 [00:01<00:00, 13.56it/s]\n"
     ]
    },
    {
     "name": "stdout",
     "output_type": "stream",
     "text": [
      "HR@10: 0.0260, NDCG@10: 0.0127\n",
      "HR@20: 0.0451, NDCG@20: 0.0176\n",
      "HR@50: 0.0921, NDCG@50: 0.0268\n",
      "Epoch 910/1000, Train Loss: 3.3600, Val Loss: 6.4747, LR: 0.000004\n",
      "Evaluating model at epoch 910...\n"
     ]
    },
    {
     "name": "stderr",
     "output_type": "stream",
     "text": [
      "Evaluating: 100%|██████████| 24/24 [00:01<00:00, 13.46it/s]\n"
     ]
    },
    {
     "name": "stdout",
     "output_type": "stream",
     "text": [
      "HR@10: 0.0305, NDCG@10: 0.0150\n",
      "HR@20: 0.0482, NDCG@20: 0.0195\n",
      "HR@50: 0.0902, NDCG@50: 0.0278\n",
      "Epoch 920/1000, Train Loss: 3.3877, Val Loss: 6.4665, LR: 0.000004\n",
      "Evaluating model at epoch 920...\n"
     ]
    },
    {
     "name": "stderr",
     "output_type": "stream",
     "text": [
      "Evaluating: 100%|██████████| 24/24 [00:01<00:00, 13.75it/s]\n"
     ]
    },
    {
     "name": "stdout",
     "output_type": "stream",
     "text": [
      "HR@10: 0.0252, NDCG@10: 0.0117\n",
      "HR@20: 0.0438, NDCG@20: 0.0164\n",
      "HR@50: 0.0873, NDCG@50: 0.0249\n",
      "Epoch 930/1000, Train Loss: 3.3749, Val Loss: 6.4666, LR: 0.000003\n",
      "Evaluating model at epoch 930...\n"
     ]
    },
    {
     "name": "stderr",
     "output_type": "stream",
     "text": [
      "Evaluating: 100%|██████████| 24/24 [00:01<00:00, 13.61it/s]\n"
     ]
    },
    {
     "name": "stdout",
     "output_type": "stream",
     "text": [
      "HR@10: 0.0283, NDCG@10: 0.0147\n",
      "HR@20: 0.0466, NDCG@20: 0.0193\n",
      "HR@50: 0.0885, NDCG@50: 0.0275\n",
      "Epoch 940/1000, Train Loss: 3.3721, Val Loss: 6.4667, LR: 0.000003\n",
      "Evaluating model at epoch 940...\n"
     ]
    },
    {
     "name": "stderr",
     "output_type": "stream",
     "text": [
      "Evaluating: 100%|██████████| 24/24 [00:01<00:00, 13.62it/s]\n"
     ]
    },
    {
     "name": "stdout",
     "output_type": "stream",
     "text": [
      "HR@10: 0.0275, NDCG@10: 0.0135\n",
      "HR@20: 0.0472, NDCG@20: 0.0184\n",
      "HR@50: 0.0938, NDCG@50: 0.0276\n",
      "Epoch 950/1000, Train Loss: 3.3980, Val Loss: 6.4482, LR: 0.000003\n",
      "Evaluating model at epoch 950...\n"
     ]
    },
    {
     "name": "stderr",
     "output_type": "stream",
     "text": [
      "Evaluating: 100%|██████████| 24/24 [00:01<00:00, 13.73it/s]\n"
     ]
    },
    {
     "name": "stdout",
     "output_type": "stream",
     "text": [
      "HR@10: 0.0292, NDCG@10: 0.0139\n",
      "HR@20: 0.0509, NDCG@20: 0.0194\n",
      "HR@50: 0.0921, NDCG@50: 0.0275\n",
      "Epoch 960/1000, Train Loss: 3.3717, Val Loss: 6.4758, LR: 0.000003\n",
      "Evaluating model at epoch 960...\n"
     ]
    },
    {
     "name": "stderr",
     "output_type": "stream",
     "text": [
      "Evaluating: 100%|██████████| 24/24 [00:01<00:00, 13.71it/s]\n"
     ]
    },
    {
     "name": "stdout",
     "output_type": "stream",
     "text": [
      "HR@10: 0.0242, NDCG@10: 0.0115\n",
      "HR@20: 0.0466, NDCG@20: 0.0172\n",
      "HR@50: 0.0883, NDCG@50: 0.0254\n",
      "Epoch 970/1000, Train Loss: 3.3754, Val Loss: 6.4635, LR: 0.000002\n",
      "Evaluating model at epoch 970...\n"
     ]
    },
    {
     "name": "stderr",
     "output_type": "stream",
     "text": [
      "Evaluating: 100%|██████████| 24/24 [00:01<00:00, 13.44it/s]\n"
     ]
    },
    {
     "name": "stdout",
     "output_type": "stream",
     "text": [
      "HR@10: 0.0272, NDCG@10: 0.0130\n",
      "HR@20: 0.0500, NDCG@20: 0.0187\n",
      "HR@50: 0.0933, NDCG@50: 0.0272\n",
      "Epoch 980/1000, Train Loss: 3.3826, Val Loss: 6.4611, LR: 0.000002\n",
      "Evaluating model at epoch 980...\n"
     ]
    },
    {
     "name": "stderr",
     "output_type": "stream",
     "text": [
      "Evaluating: 100%|██████████| 24/24 [00:01<00:00, 13.63it/s]\n"
     ]
    },
    {
     "name": "stdout",
     "output_type": "stream",
     "text": [
      "HR@10: 0.0331, NDCG@10: 0.0167\n",
      "HR@20: 0.0529, NDCG@20: 0.0217\n",
      "HR@50: 0.0966, NDCG@50: 0.0302\n",
      "Epoch 990/1000, Train Loss: 3.3715, Val Loss: 6.4805, LR: 0.000002\n",
      "Evaluating model at epoch 990...\n"
     ]
    },
    {
     "name": "stderr",
     "output_type": "stream",
     "text": [
      "Evaluating: 100%|██████████| 24/24 [00:01<00:00, 13.51it/s]\n"
     ]
    },
    {
     "name": "stdout",
     "output_type": "stream",
     "text": [
      "HR@10: 0.0292, NDCG@10: 0.0139\n",
      "HR@20: 0.0471, NDCG@20: 0.0183\n",
      "HR@50: 0.0951, NDCG@50: 0.0277\n",
      "Epoch 1000/1000, Train Loss: 3.3716, Val Loss: 6.4646, LR: 0.000002\n",
      "Evaluating model at epoch 1000...\n"
     ]
    },
    {
     "name": "stderr",
     "output_type": "stream",
     "text": [
      "Evaluating: 100%|██████████| 24/24 [00:01<00:00, 13.70it/s]\n"
     ]
    },
    {
     "name": "stdout",
     "output_type": "stream",
     "text": [
      "HR@10: 0.0264, NDCG@10: 0.0143\n",
      "HR@20: 0.0447, NDCG@20: 0.0190\n",
      "HR@50: 0.0863, NDCG@50: 0.0271\n"
     ]
    },
    {
     "data": {
      "image/png": "[encoded data removed]",
      "text/plain": [
       "<Figure size 1000x600 with 1 Axes>"
      ]
     },
     "metadata": {},
     "output_type": "display_data"
    },
    {
     "data": {
      "image/png": "[encoded data removed]",
      "text/plain": [
       "<Figure size 1500x1000 with 2 Axes>"
      ]
     },
     "metadata": {},
     "output_type": "display_data"
    },
    {
     "name": "stdout",
     "output_type": "stream",
     "text": [
      "评估测试集性能...\n"
     ]
    },
    {
     "name": "stderr",
     "output_type": "stream",
     "text": [
      "Evaluating: 100%|██████████| 24/24 [00:01<00:00, 14.14it/s]\n"
     ]
    },
    {
     "name": "stdout",
     "output_type": "stream",
     "text": [
      "HR@10: 0.0085, NDCG@10: 0.0040\n",
      "HR@20: 0.0152, NDCG@20: 0.0057\n",
      "HR@50: 0.0355, NDCG@50: 0.0096\n"
     ]
    },
    {
     "data": {
      "image/png": "[encoded data removed]",
      "text/plain": [
       "<Figure size 1200x600 with 2 Axes>"
      ]
     },
     "metadata": {},
     "output_type": "display_data"
    },
    {
     "name": "stdout",
     "output_type": "stream",
     "text": [
      "训练和评估完成!\n"
     ]
    }
   ],
   "source": [
    "import torch\n",
    "import torch.nn as nn\n",
    "import torch.nn.functional as F\n",
    "import math\n",
    "import numpy as np\n",
    "import matplotlib.pyplot as plt\n",
    "import pandas as pd\n",
    "import os\n",
    "import zipfile\n",
    "import requests\n",
    "from torch.utils.data import Dataset, DataLoader\n",
    "from tqdm import tqdm\n",
    "from sklearn.model_selection import train_test_split\n",
    "\n",
    "# 胶囊网络层\n",
    "class CapsuleLayer(nn.Module):\n",
    "    \"\"\"胶囊网络层，实现B2I动态路由算法\"\"\"\n",
    "    def __init__(self, input_units, out_units, max_len, k_max=4, iterations=3):\n",
    "        super(CapsuleLayer, self).__init__()\n",
    "        self.input_units = input_units\n",
    "        self.out_units = out_units\n",
    "        self.max_len = max_len\n",
    "        self.k_max = k_max\n",
    "        self.iterations = iterations\n",
    "        self.shared_weights = nn.Parameter(torch.randn(1, input_units, out_units))\n",
    "        \n",
    "    def forward(self, inputs):\n",
    "        history_emb, hist_len = inputs\n",
    "        batch_size = history_emb.size(0)\n",
    "        k_user = torch.clamp(torch.floor(torch.log2(hist_len.float())), min=1, max=self.k_max).long()\n",
    "        b_ij = torch.randn(batch_size, self.max_len, self.k_max, device=history_emb.device)\n",
    "        for i in range(self.iterations):\n",
    "            c_ij = F.softmax(b_ij, dim=2)\n",
    "            mask = torch.arange(self.max_len, device=hist_len.device).expand(batch_size, self.max_len) >= hist_len.unsqueeze(1)\n",
    "            c_ij = c_ij.masked_fill(mask.unsqueeze(2), 0)\n",
    "            u_hat = torch.matmul(history_emb, self.shared_weights)\n",
    "            s_j = torch.bmm(c_ij.transpose(1, 2), u_hat)\n",
    "            v_j = self.squash(s_j)\n",
    "            if i < self.iterations - 1:\n",
    "                u_v = torch.bmm(u_hat, v_j.transpose(1, 2))\n",
    "                b_ij = b_ij + u_v\n",
    "        \n",
    "        final_v_j = []\n",
    "        for i in range(batch_size):\n",
    "            final_v_j.append(v_j[i, :k_user[i], :])\n",
    "        max_k = k_user.max().item()\n",
    "        output = torch.zeros(batch_size, max_k, self.out_units, device=history_emb.device)\n",
    "        for i in range(batch_size):\n",
    "            output[i, :k_user[i], :] = final_v_j[i]\n",
    "        return output, k_user\n",
    "    \n",
    "    def squash(self, inputs):\n",
    "        norm = torch.norm(inputs, p=2, dim=2, keepdim=True)\n",
    "        norm_squared = norm ** 2\n",
    "        scale = norm_squared / (1 + norm_squared) / (norm + 1e-8)\n",
    "        return scale * inputs\n",
    "\n",
    "# 标签感知注意力层\n",
    "class LabelAwareAttention(nn.Module):\n",
    "    \"\"\"标签感知注意力层，根据目标物品调整用户的多兴趣表示\"\"\"\n",
    "    def __init__(self, embedding_dim, k_max=4, pow_p=1.0, dynamic_k=False):\n",
    "        super(LabelAwareAttention, self).__init__()\n",
    "        self.embedding_dim = embedding_dim\n",
    "        self.k_max = k_max\n",
    "        self.pow_p = pow_p\n",
    "        self.dynamic_k = dynamic_k\n",
    "        self.attention = nn.Sequential(\n",
    "            nn.Linear(embedding_dim * 2, embedding_dim),\n",
    "            nn.Tanh(),\n",
    "            nn.Linear(embedding_dim, 1)\n",
    "        )\n",
    "    \n",
    "    def forward(self, inputs):\n",
    "        if self.dynamic_k and len(inputs) == 3:\n",
    "            user_embeddings, target_embedding, k_user = inputs\n",
    "        else:\n",
    "            user_embeddings, target_embedding = inputs\n",
    "            k_user = torch.full((user_embeddings.size(0),), self.k_max, dtype=torch.long, device=user_embeddings.device)\n",
    "        batch_max_k = k_user.max().item()\n",
    "        batch_size = user_embeddings.size(0)\n",
    "        processed_user_embeddings = torch.zeros(batch_size, batch_max_k, self.embedding_dim, device=user_embeddings.device)\n",
    "        for i in range(batch_size):\n",
    "            actual_k = k_user[i].item()\n",
    "            user_interest = user_embeddings[i, :actual_k, :]\n",
    "            if actual_k > batch_max_k:\n",
    "                processed_user_embeddings[i] = user_interest[:batch_max_k]\n",
    "            else:\n",
    "                processed_user_embeddings[i, :actual_k] = user_interest[:batch_max_k]\n",
    "        target_embedding = target_embedding.expand(-1, batch_max_k, -1)\n",
    "        concat_vector = torch.cat([processed_user_embeddings, target_embedding], dim=2)\n",
    "        similarity = self.attention(concat_vector).squeeze(2)\n",
    "        mask = torch.arange(batch_max_k, device=user_embeddings.device).expand(batch_size, batch_max_k) >= k_user.unsqueeze(1)\n",
    "        similarity = similarity.masked_fill(mask, -1e9)\n",
    "        if self.pow_p != 1.0:\n",
    "            similarity = torch.pow(similarity, self.pow_p)\n",
    "        attention_weights = F.softmax(similarity, dim=1).unsqueeze(2)\n",
    "        user_embedding = torch.sum(processed_user_embeddings * attention_weights, dim=1)\n",
    "        return user_embedding\n",
    "\n",
    "# MIND模型\n",
    "class MIND(nn.Module):\n",
    "    \"\"\"Multi-Interest Network with Dynamic Routing模型\"\"\"\n",
    "    def __init__(self, item_count, embedding_dim=64, k_max=4, pow_p=1.0, dynamic_k=True):\n",
    "        super(MIND, self).__init__()\n",
    "        self.item_count = item_count\n",
    "        self.embedding_dim = embedding_dim\n",
    "        self.k_max = k_max\n",
    "        self.pow_p = pow_p\n",
    "        self.dynamic_k = dynamic_k\n",
    "        self.item_embedding = nn.Embedding(item_count, embedding_dim, padding_idx=0)\n",
    "        self.capsule_layer = CapsuleLayer(embedding_dim, embedding_dim, max_len=50, k_max=k_max)\n",
    "        self.label_aware_attention = LabelAwareAttention(embedding_dim, k_max=k_max, pow_p=pow_p, dynamic_k=dynamic_k)\n",
    "        \n",
    "    def forward(self, user_hist, target_item=None, hist_len=None):\n",
    "        hist_emb = self.item_embedding(user_hist)\n",
    "        multi_interests, k_user = self.capsule_layer((hist_emb, hist_len))\n",
    "        if target_item is not None:\n",
    "            target_emb = self.item_embedding(target_item).unsqueeze(1)\n",
    "            if self.dynamic_k:\n",
    "                user_embedding = self.label_aware_attention((multi_interests, target_emb, k_user))\n",
    "            else:\n",
    "                user_embedding = self.label_aware_attention((multi_interests, target_emb))\n",
    "            return user_embedding, multi_interests\n",
    "        else:\n",
    "            return multi_interests\n",
    "    \n",
    "    def calculate_loss(self, user_embedding, target_item):\n",
    "        all_item_emb = self.item_embedding.weight\n",
    "        scores = torch.matmul(user_embedding, all_item_emb.transpose(0, 1))\n",
    "        loss = F.cross_entropy(scores, target_item)\n",
    "        return loss\n",
    "\n",
    "# 数据集类\n",
    "class UserItemDataset(Dataset):\n",
    "    def __init__(self, user_hists, target_items, hist_lens):\n",
    "        self.user_hists = user_hists\n",
    "        self.target_items = target_items\n",
    "        self.hist_lens = hist_lens\n",
    "        \n",
    "    def __len__(self):\n",
    "        return len(self.user_hists)\n",
    "    \n",
    "    def __getitem__(self, idx):\n",
    "        return {\n",
    "            'user_hist': torch.tensor(self.user_hists[idx], dtype=torch.long),\n",
    "            'target_item': torch.tensor(self.target_items[idx], dtype=torch.long),\n",
    "            'hist_len': torch.tensor(self.hist_lens[idx], dtype=torch.long)\n",
    "        }\n",
    "\n",
    "# 下载并处理MovieLens数据集\n",
    "def download_and_preprocess_movielens():\n",
    "    # 如果数据集不存在，则下载\n",
    "    data_path = 'ml-1m'\n",
    "    zip_path = 'ml-1m.zip'\n",
    "    ratings_file = os.path.join(data_path, 'ratings.dat')\n",
    "    if not os.path.exists(data_path):\n",
    "        if not os.path.exists(zip_path):\n",
    "            print(\"下载MovieLens-1M数据集...\")\n",
    "            url = 'https://files.grouplens.org/datasets/movielens/ml-1m.zip'\n",
    "            r = requests.get(url)\n",
    "            with open(zip_path, 'wb') as f:\n",
    "                f.write(r.content)\n",
    "        print(\"解压数据集...\")\n",
    "        with zipfile.ZipFile(zip_path, 'r') as zip_ref:\n",
    "            zip_ref.extractall('.')\n",
    "    print(\"读取和处理数据...\")\n",
    "    ratings = pd.read_csv(ratings_file, sep='::', \n",
    "                         engine='python', \n",
    "                         names=['user_id', 'movie_id', 'rating', 'timestamp'])\n",
    "    # 过滤低评分\n",
    "    ratings = ratings[ratings['rating'] >= 4]  # 只保留评分4分及以上的\n",
    "    \n",
    "    # 按用户分组并按时间排序\n",
    "    ratings.sort_values(['user_id', 'timestamp'], inplace=True)\n",
    "    # 构建用户历史序列\n",
    "    user_sequences = ratings.groupby('user_id')['movie_id'].apply(list).reset_index()\n",
    "    user_sequences.columns = ['user_id', 'movie_list']\n",
    "    # 添加序列长度\n",
    "    user_sequences['hist_len'] = user_sequences['movie_list'].apply(len)\n",
    "    # 过滤序列长度太短的用户\n",
    "    user_sequences = user_sequences[user_sequences['hist_len'] >= 5]\n",
    "    # 分割每个用户的序列为历史序列和目标\n",
    "    def split_sequence(row):\n",
    "        seq = row['movie_list']\n",
    "        # 最后两个物品分别作为验证和测试的目标\n",
    "        return seq[:-2], seq[-2], seq[-1]\n",
    "    user_sequences[['hist', 'val_target', 'test_target']] = user_sequences.apply(\n",
    "        lambda row: split_sequence(row), axis=1, result_type='expand')\n",
    "    # 创建训练集、验证集和测试集\n",
    "    train_data = user_sequences[['hist', 'val_target', 'hist_len']].copy()\n",
    "    train_data.rename(columns={'val_target': 'target'}, inplace=True)\n",
    "    val_data = user_sequences[['hist', 'test_target', 'hist_len']].copy()\n",
    "    val_data.rename(columns={'test_target': 'target'}, inplace=True)\n",
    "    # 创建测试集：使用整个序列的最后一部分作为目标\n",
    "    test_data = user_sequences[['movie_list', 'test_target', 'hist_len']].copy()\n",
    "    test_data.rename(columns={'movie_list': 'hist', 'test_target': 'target'}, inplace=True)\n",
    "    # 获取物品数量\n",
    "    num_items = ratings['movie_id'].max() + 1  # +1 因为ID从1开始\n",
    "    # 填充序列到固定长度\n",
    "    max_len = 50\n",
    "    def pad_sequences(sequences, max_len, pad_value=0):\n",
    "        padded = []\n",
    "        for seq in sequences:\n",
    "            if len(seq) < max_len:\n",
    "                padded.append(seq + [pad_value] * (max_len - len(seq)))\n",
    "            else:\n",
    "                padded.append(seq[:max_len])\n",
    "        return padded\n",
    "    train_user_hists = pad_sequences(train_data['hist'].tolist(), max_len)\n",
    "    train_target_items = train_data['target'].tolist()\n",
    "    train_hist_lens = [min(l, max_len) for l in train_data['hist_len']]\n",
    "    val_user_hists = pad_sequences(val_data['hist'].tolist(), max_len)\n",
    "    val_target_items = val_data['target'].tolist()\n",
    "    val_hist_lens = [min(l, max_len) for l in val_data['hist_len']]\n",
    "    test_user_hists = pad_sequences(test_data['hist'].tolist(), max_len)\n",
    "    test_target_items = test_data['target'].tolist()\n",
    "    test_hist_lens = [min(l, max_len) for l in test_data['hist_len']]\n",
    "    return (train_user_hists, train_target_items, train_hist_lens,\n",
    "            val_user_hists, val_target_items, val_hist_lens,\n",
    "            test_user_hists, test_target_items, test_hist_lens,\n",
    "            num_items)\n",
    "\n",
    "# 训练函数\n",
    "def train_model(model, train_loader, val_loader, optimizer, scheduler, device, epochs=10):\n",
    "    train_losses = []\n",
    "    val_losses = []\n",
    "    metrics_history = {\n",
    "        'HR@10': [], 'HR@20': [], 'HR@50': [],\n",
    "        'NDCG@10': [], 'NDCG@20': [], 'NDCG@50': []\n",
    "    }\n",
    "    best_val_loss = float('inf')\n",
    "    best_metrics = None\n",
    "    for epoch in range(epochs):\n",
    "        # 训练阶段\n",
    "        model.train()\n",
    "        total_train_loss = 0\n",
    "        #for batch in tqdm(train_loader, desc=f'Epoch {epoch+1}/{epochs} [Train]'):\n",
    "        for batch in train_loader:\n",
    "            user_hist = batch['user_hist'].to(device)\n",
    "            target_item = batch['target_item'].to(device)\n",
    "            hist_len = batch['hist_len'].to(device)\n",
    "            optimizer.zero_grad()\n",
    "            user_embedding, _ = model(user_hist, target_item, hist_len)\n",
    "            loss = model.calculate_loss(user_embedding, target_item)\n",
    "            loss.backward()\n",
    "            optimizer.step()\n",
    "            total_train_loss += loss.item()\n",
    "        \n",
    "        avg_train_loss = total_train_loss / len(train_loader)\n",
    "        train_losses.append(avg_train_loss)\n",
    "        # 验证阶段\n",
    "        model.eval()\n",
    "        total_val_loss = 0\n",
    "        with torch.no_grad():\n",
    "            #for batch in tqdm(val_loader, desc=f'Epoch {epoch+1}/{epochs} [Val]'):\n",
    "            for batch in val_loader:\n",
    "                user_hist = batch['user_hist'].to(device)\n",
    "                target_item = batch['target_item'].to(device)\n",
    "                hist_len = batch['hist_len'].to(device)\n",
    "                user_embedding, _ = model(user_hist, target_item, hist_len)\n",
    "                loss = model.calculate_loss(user_embedding, target_item)\n",
    "                total_val_loss += loss.item()\n",
    "        \n",
    "        avg_val_loss = total_val_loss / len(val_loader)\n",
    "        val_losses.append(avg_val_loss)\n",
    "        # 更新学习率\n",
    "        scheduler.step(avg_val_loss)\n",
    "        # 每10个epoch评估一次模型\n",
    "        if (epoch + 1) % 10 == 0 or epoch == epochs - 1:\n",
    "            print(f'Epoch {epoch+1}/{epochs}, Train Loss: {avg_train_loss:.4f}, Val Loss: {avg_val_loss:.4f}, LR: {optimizer.param_groups[0][\"lr\"]:.6f}')\n",
    "            print(f\"Evaluating model at epoch {epoch+1}...\")\n",
    "            metrics = evaluate_model(model, val_loader, device)\n",
    "            for key, value in metrics.items():\n",
    "                metrics_history[key].append(value)  \n",
    "            # 保存最佳指标\n",
    "            if best_metrics is None or metrics['HR@10'] > best_metrics['HR@10']:\n",
    "                 best_metrics = metrics\n",
    "        # 保存最佳模型\n",
    "        if avg_val_loss < best_val_loss:\n",
    "            best_val_loss = avg_val_loss\n",
    "            torch.save(model.state_dict(), 'best_mind_model.pth')\n",
    "    return train_losses, val_losses, metrics_history, best_metrics\n",
    "\n",
    "# 评估函数\n",
    "def evaluate_model(model, data_loader, device, top_k_list=[10, 20, 50]):\n",
    "    model.eval()\n",
    "    metrics = {f'HR@{k}': [] for k in top_k_list}\n",
    "    metrics.update({f'NDCG@{k}': [] for k in top_k_list})\n",
    "    \n",
    "    with torch.no_grad():\n",
    "        for batch in tqdm(data_loader, desc='Evaluating'):\n",
    "            user_hist = batch['user_hist'].to(device)\n",
    "            target_item = batch['target_item'].to(device)\n",
    "            hist_len = batch['hist_len'].to(device)\n",
    "            multi_interests = model(user_hist, None, hist_len)\n",
    "            all_item_emb = model.item_embedding.weight\n",
    "            # 计算相似度\n",
    "            similarities = torch.bmm(multi_interests, all_item_emb.transpose(0, 1).unsqueeze(0).expand(multi_interests.size(0), -1, -1))\n",
    "            max_similarities, _ = torch.max(similarities, dim=1)\n",
    "            # 排除历史行为中的物品\n",
    "            for i in range(user_hist.size(0)):\n",
    "                hist_items = user_hist[i][:hist_len[i]]\n",
    "                max_similarities[i, hist_items] = -float('inf')\n",
    "            # 计算指标\n",
    "            for k in top_k_list:\n",
    "                _, top_indices = torch.topk(max_similarities, k=k, dim=1)\n",
    "                for i in range(user_hist.size(0)):\n",
    "                    if target_item[i] in top_indices[i]:\n",
    "                        metrics[f'HR@{k}'].append(1)\n",
    "                        rank = (top_indices[i] == target_item[i]).nonzero(as_tuple=True)[0][0].item() + 1\n",
    "                        metrics[f'NDCG@{k}'].append(1 / math.log2(rank + 1))\n",
    "                    else:\n",
    "                        metrics[f'HR@{k}'].append(0)\n",
    "                        metrics[f'NDCG@{k}'].append(0)\n",
    "    # 计算平均指标\n",
    "    avg_metrics = {}\n",
    "    for k in top_k_list:\n",
    "        hr = np.mean(metrics[f'HR@{k}'])\n",
    "        ndcg = np.mean(metrics[f'NDCG@{k}'])\n",
    "        avg_metrics[f'HR@{k}'] = hr\n",
    "        avg_metrics[f'NDCG@{k}'] = ndcg\n",
    "        print(f'HR@{k}: {hr:.4f}, NDCG@{k}: {ndcg:.4f}')\n",
    "    \n",
    "    return avg_metrics\n",
    "\n",
    "# 绘制损失曲线\n",
    "def plot_losses(train_losses, val_losses, save_path='loss_curve.png'):\n",
    "    plt.figure(figsize=(10, 6))\n",
    "    plt.plot(train_losses, 'b-', label='Training Loss')\n",
    "    plt.plot(val_losses, 'r-', label='Validation Loss')\n",
    "    plt.xlabel('Epoch')\n",
    "    plt.ylabel('Loss')\n",
    "    plt.title('Training and Validation Loss')\n",
    "    plt.legend()\n",
    "    plt.grid(True)\n",
    "    plt.savefig(save_path)\n",
    "    plt.show()\n",
    "\n",
    "# 绘制指标曲线\n",
    "def plot_metrics(metrics_history, epochs, save_path='metrics_curve.png'):\n",
    "    eval_epochs = [5 * (i+1) for i in range(len(metrics_history['HR@10']))]\n",
    "    plt.figure(figsize=(15, 10))\n",
    "    # 绘制HR指标对比\n",
    "    plt.subplot(2, 1, 1)\n",
    "    for k in [10, 20, 50]:\n",
    "        plt.plot(eval_epochs, metrics_history[f'HR@{k}'], 'o-', label=f'HR@{k}')\n",
    "    plt.xlabel('Epoch')\n",
    "    plt.ylabel('Hit Rate (HR)')\n",
    "    plt.title('Hit Rate at Different K Values')\n",
    "    plt.legend()\n",
    "    plt.grid(True)\n",
    "    # 绘制NDCG指标\n",
    "    plt.subplot(2, 1, 2)\n",
    "    for k in [10, 20, 50]:\n",
    "        plt.plot(eval_epochs, metrics_history[f'NDCG@{k}'], 'o-', label=f'NDCG@{k}')\n",
    "    plt.xlabel('Epoch')\n",
    "    plt.ylabel('Normalized Discounted Cumulative Gain (NDCG)')\n",
    "    plt.title('NDCG at Different K Values')\n",
    "    plt.legend()\n",
    "    plt.grid(True)\n",
    "    plt.tight_layout()\n",
    "    plt.savefig(save_path)\n",
    "    plt.show()\n",
    "\n",
    "# 绘制不同K值的最终指标对比\n",
    "def plot_final_metrics(metrics, save_path='final_metrics.png'):\n",
    "    k_values = [10, 20, 50]\n",
    "    hr_values = [metrics[f'HR@{k}'] for k in k_values]\n",
    "    ndcg_values = [metrics[f'NDCG@{k}'] for k in k_values]\n",
    "    plt.figure(figsize=(12, 6))\n",
    "    # 绘制HR指标对比\n",
    "    plt.subplot(1, 2, 1)\n",
    "    plt.bar([str(k) for k in k_values], hr_values, color='skyblue')\n",
    "    plt.xlabel('K Value')\n",
    "    plt.ylabel('Hit Rate (HR)')\n",
    "    plt.title('HR at Different K Values')\n",
    "    plt.ylim(0, max(hr_values) * 1.2)\n",
    "    # 绘制NDCG指标对比\n",
    "    plt.subplot(1, 2, 2)\n",
    "    plt.bar([str(k) for k in k_values], ndcg_values, color='lightgreen')\n",
    "    plt.xlabel('K Value')\n",
    "    plt.ylabel('Normalized Discounted Cumulative Gain (NDCG)')\n",
    "    plt.title('NDCG at Different K Values')\n",
    "    plt.ylim(0, max(ndcg_values) * 1.2)\n",
    "    plt.tight_layout()\n",
    "    plt.savefig(save_path)\n",
    "    plt.show()\n",
    "\n",
    "# 主函数\n",
    "def main():\n",
    "    # 设置参数\n",
    "    embedding_dim = 64\n",
    "    k_max = 5\n",
    "    pow_p = 1.0\n",
    "    dynamic_k = True\n",
    "    batch_size = 256\n",
    "    epochs = 1000\n",
    "    learning_rate = 0.01\n",
    "    device = torch.device('cuda' if torch.cuda.is_available() else 'cpu')\n",
    "    print(\"下载并处理MovieLens-1M数据集...\")\n",
    "    (train_user_hists, train_target_items, train_hist_lens,\n",
    "     val_user_hists, val_target_items, val_hist_lens,\n",
    "     test_user_hists, test_target_items, test_hist_lens,\n",
    "     num_items) = download_and_preprocess_movielens()\n",
    "    print(f\"数据集信息: 物品数量={num_items}, 训练样本={len(train_user_hists)}, \"\n",
    "          f\"验证样本={len(val_user_hists)}, 测试样本={len(test_user_hists)}\")\n",
    "    # 创建数据加载器\n",
    "    train_dataset = UserItemDataset(train_user_hists, train_target_items, train_hist_lens)\n",
    "    val_dataset = UserItemDataset(val_user_hists, val_target_items, val_hist_lens)\n",
    "    test_dataset = UserItemDataset(test_user_hists, test_target_items, test_hist_lens)\n",
    "    train_loader = DataLoader(train_dataset, batch_size=batch_size, shuffle=True)\n",
    "    val_loader = DataLoader(val_dataset, batch_size=batch_size)\n",
    "    test_loader = DataLoader(test_dataset, batch_size=batch_size)\n",
    "    # 初始化模型\n",
    "    model = MIND(num_items, embedding_dim, k_max, pow_p, dynamic_k).to(device)\n",
    "    # 定义优化器和学习率调度器\n",
    "    optimizer = torch.optim.Adam(model.parameters(), lr=learning_rate)\n",
    "    scheduler = torch.optim.lr_scheduler.ReduceLROnPlateau(\n",
    "        optimizer, mode='min', factor=0.9, patience=10, verbose=True)\n",
    "    # 训练模型\n",
    "    print(\"开始训练模型...\")\n",
    "    train_losses, val_losses, metrics_history, best_metrics = train_model(\n",
    "        model, train_loader, val_loader, optimizer, scheduler, device, epochs)\n",
    "    # 绘制损失曲线\n",
    "    plot_losses(train_losses, val_losses, save_path='mind_loss_curve.png')\n",
    "    # 绘制指标曲线\n",
    "    plot_metrics(metrics_history, epochs, save_path='mind_metrics_curve.png')\n",
    "    # 加载最佳模型并在测试集上评估\n",
    "    model.load_state_dict(torch.load('best_mind_model.pth'))\n",
    "    print(\"评估测试集性能...\")\n",
    "    test_metrics = evaluate_model(model, test_loader, device)\n",
    "    # 绘制不同K值的最终指标对比\n",
    "    plot_final_metrics(test_metrics, save_path='mind_final_metrics.png')\n",
    "    print(\"训练和评估完成!\")\n",
    "\n",
    "if __name__ == \"__main__\":\n",
    "    main()"
   ]
  }
 ],
 "metadata": {
  "kaggle": {
   "accelerator": "nvidiaTeslaT4",
   "dataSources": [],
   "dockerImageVersionId": 31090,
   "isGpuEnabled": true,
   "isInternetEnabled": true,
   "language": "python",
   "sourceType": "notebook"
  },
  "kernelspec": {
   "display_name": "Python 3",
   "language": "python",
   "name": "python3"
  },
  "language_info": {
   "codemirror_mode": {
    "name": "ipython",
    "version": 3
   },
   "file_extension": ".py",
   "mimetype": "text/x-python",
   "name": "python",
   "nbconvert_exporter": "python",
   "pygments_lexer": "ipython3",
   "version": "3.11.13"
  },
  "papermill": {
   "default_parameters": {},
   "duration": 3200.399128,
   "end_time": "2025-07-08T15:16:43.160105",
   "environment_variables": {},
   "exception": null,
   "input_path": "__notebook__.ipynb",
   "output_path": "__notebook__.ipynb",
   "parameters": {},
   "start_time": "2025-07-08T14:23:22.760977",
   "version": "2.6.0"
  }
 },
 "nbformat": 4,
 "nbformat_minor": 5
}
